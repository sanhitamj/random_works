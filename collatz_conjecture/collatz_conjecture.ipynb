{
 "cells": [
  {
   "cell_type": "markdown",
   "id": "a914f1c0-1aac-4123-aaac-be0ae360b663",
   "metadata": {},
   "source": [
    "## Background - Collatz numbers -\n",
    "https://en.wikipedia.org/wiki/Collatz_conjecture\n",
    "\n",
    "### For native Marathi speakers - \n",
    "https://aisiakshare.com/node/8194"
   ]
  },
  {
   "cell_type": "markdown",
   "id": "ec478ddb-4f78-4c5b-bde1-9411b9350dbf",
   "metadata": {},
   "source": [
    "This is an attempt to find if there is any pattern with the number of times the process has to be repeated to get to 1. If the maximum number it reaches during the process has any relationship with the number. Both these have no correlation with the original number. The numbers themselves have a weak Pearson correlation."
   ]
  },
  {
   "cell_type": "code",
   "execution_count": 1,
   "id": "fc99df21-dadc-4879-8085-3eca17fad069",
   "metadata": {},
   "outputs": [],
   "source": [
    "import matplotlib.pyplot as plt\n",
    "from collatz_conjecture import CollatzNumbers"
   ]
  },
  {
   "cell_type": "code",
   "execution_count": 2,
   "id": "1ffef949-f49f-4c37-8203-c6ba35c25260",
   "metadata": {},
   "outputs": [],
   "source": [
    "cn = CollatzNumbers(3000)"
   ]
  },
  {
   "cell_type": "code",
   "execution_count": 3,
   "id": "da66f84c-e185-4b0f-b85a-a1ea377eba13",
   "metadata": {},
   "outputs": [],
   "source": [
    "df = cn.get_collatz_dataframe()"
   ]
  },
  {
   "cell_type": "code",
   "execution_count": 4,
   "id": "29229228-2e8f-4e86-9db7-261aea42a367",
   "metadata": {},
   "outputs": [
    {
     "data": {
      "text/html": [
       "<div>\n",
       "<style scoped>\n",
       "    .dataframe tbody tr th:only-of-type {\n",
       "        vertical-align: middle;\n",
       "    }\n",
       "\n",
       "    .dataframe tbody tr th {\n",
       "        vertical-align: top;\n",
       "    }\n",
       "\n",
       "    .dataframe thead th {\n",
       "        text-align: right;\n",
       "    }\n",
       "</style>\n",
       "<table border=\"1\" class=\"dataframe\">\n",
       "  <thead>\n",
       "    <tr style=\"text-align: right;\">\n",
       "      <th></th>\n",
       "      <th>orig_num</th>\n",
       "      <th>reduced_to</th>\n",
       "      <th>num_iterations</th>\n",
       "      <th>max_num_found</th>\n",
       "    </tr>\n",
       "  </thead>\n",
       "  <tbody>\n",
       "    <tr>\n",
       "      <th>0</th>\n",
       "      <td>1</td>\n",
       "      <td>1</td>\n",
       "      <td>0</td>\n",
       "      <td>1</td>\n",
       "    </tr>\n",
       "    <tr>\n",
       "      <th>1</th>\n",
       "      <td>2</td>\n",
       "      <td>1</td>\n",
       "      <td>1</td>\n",
       "      <td>2</td>\n",
       "    </tr>\n",
       "    <tr>\n",
       "      <th>2</th>\n",
       "      <td>3</td>\n",
       "      <td>1</td>\n",
       "      <td>5</td>\n",
       "      <td>8</td>\n",
       "    </tr>\n",
       "    <tr>\n",
       "      <th>3</th>\n",
       "      <td>4</td>\n",
       "      <td>1</td>\n",
       "      <td>2</td>\n",
       "      <td>4</td>\n",
       "    </tr>\n",
       "    <tr>\n",
       "      <th>4</th>\n",
       "      <td>5</td>\n",
       "      <td>1</td>\n",
       "      <td>4</td>\n",
       "      <td>8</td>\n",
       "    </tr>\n",
       "  </tbody>\n",
       "</table>\n",
       "</div>"
      ],
      "text/plain": [
       "   orig_num  reduced_to  num_iterations  max_num_found\n",
       "0         1           1               0              1\n",
       "1         2           1               1              2\n",
       "2         3           1               5              8\n",
       "3         4           1               2              4\n",
       "4         5           1               4              8"
      ]
     },
     "execution_count": 4,
     "metadata": {},
     "output_type": "execute_result"
    }
   ],
   "source": [
    "df.head()"
   ]
  },
  {
   "cell_type": "code",
   "execution_count": 5,
   "id": "046398a8-41d5-451a-8dcc-dc8665c047f9",
   "metadata": {},
   "outputs": [
    {
     "data": {
      "text/plain": [
       "<matplotlib.collections.PathCollection at 0x7fab4df2a430>"
      ]
     },
     "execution_count": 5,
     "metadata": {},
     "output_type": "execute_result"
    },
    {
     "data": {
      "image/png": "[encoded data removed]",
      "text/plain": [
       "<Figure size 432x288 with 1 Axes>"
      ]
     },
     "metadata": {
      "needs_background": "light"
     },
     "output_type": "display_data"
    }
   ],
   "source": [
    "plt.scatter(df['orig_num'], df['max_num_found'])"
   ]
  },
  {
   "cell_type": "code",
   "execution_count": 6,
   "id": "980eee46-d4e4-48e3-89f6-1c9b981ed219",
   "metadata": {},
   "outputs": [
    {
     "data": {
      "text/plain": [
       "<matplotlib.collections.PathCollection at 0x7fab45e332b0>"
      ]
     },
     "execution_count": 6,
     "metadata": {},
     "output_type": "execute_result"
    },
    {
     "data": {
      "image/png": "[encoded data removed]",
      "text/plain": [
       "<Figure size 432x288 with 1 Axes>"
      ]
     },
     "metadata": {
      "needs_background": "light"
     },
     "output_type": "display_data"
    }
   ],
   "source": [
    "plt.ylim(0, 1e6)\n",
    "plt.scatter(df['orig_num'], df['max_num_found'])"
   ]
  },
  {
   "cell_type": "code",
   "execution_count": 7,
   "id": "55990ff0-b47c-4bc5-a400-d31d1a2cca40",
   "metadata": {},
   "outputs": [
    {
     "data": {
      "text/html": [
       "<div>\n",
       "<style scoped>\n",
       "    .dataframe tbody tr th:only-of-type {\n",
       "        vertical-align: middle;\n",
       "    }\n",
       "\n",
       "    .dataframe tbody tr th {\n",
       "        vertical-align: top;\n",
       "    }\n",
       "\n",
       "    .dataframe thead th {\n",
       "        text-align: right;\n",
       "    }\n",
       "</style>\n",
       "<table border=\"1\" class=\"dataframe\">\n",
       "  <thead>\n",
       "    <tr style=\"text-align: right;\">\n",
       "      <th></th>\n",
       "      <th>orig_num</th>\n",
       "      <th>reduced_to</th>\n",
       "      <th>num_iterations</th>\n",
       "      <th>max_num_found</th>\n",
       "    </tr>\n",
       "  </thead>\n",
       "  <tbody>\n",
       "    <tr>\n",
       "      <th>orig_num</th>\n",
       "      <td>1.000000</td>\n",
       "      <td>NaN</td>\n",
       "      <td>0.231724</td>\n",
       "      <td>0.130464</td>\n",
       "    </tr>\n",
       "    <tr>\n",
       "      <th>reduced_to</th>\n",
       "      <td>NaN</td>\n",
       "      <td>NaN</td>\n",
       "      <td>NaN</td>\n",
       "      <td>NaN</td>\n",
       "    </tr>\n",
       "    <tr>\n",
       "      <th>num_iterations</th>\n",
       "      <td>0.231724</td>\n",
       "      <td>NaN</td>\n",
       "      <td>1.000000</td>\n",
       "      <td>0.262073</td>\n",
       "    </tr>\n",
       "    <tr>\n",
       "      <th>max_num_found</th>\n",
       "      <td>0.130464</td>\n",
       "      <td>NaN</td>\n",
       "      <td>0.262073</td>\n",
       "      <td>1.000000</td>\n",
       "    </tr>\n",
       "  </tbody>\n",
       "</table>\n",
       "</div>"
      ],
      "text/plain": [
       "                orig_num  reduced_to  num_iterations  max_num_found\n",
       "orig_num        1.000000         NaN        0.231724       0.130464\n",
       "reduced_to           NaN         NaN             NaN            NaN\n",
       "num_iterations  0.231724         NaN        1.000000       0.262073\n",
       "max_num_found   0.130464         NaN        0.262073       1.000000"
      ]
     },
     "execution_count": 7,
     "metadata": {},
     "output_type": "execute_result"
    }
   ],
   "source": [
    "df.corr()"
   ]
  },
  {
   "cell_type": "code",
   "execution_count": 8,
   "id": "26ab8a96-11d7-43ab-9c47-8f02c404ebd4",
   "metadata": {},
   "outputs": [
    {
     "data": {
      "text/plain": [
       "<matplotlib.collections.PathCollection at 0x7fab45d9cf10>"
      ]
     },
     "execution_count": 8,
     "metadata": {},
     "output_type": "execute_result"
    },
    {
     "data": {
      "image/png": "[encoded data removed]",
      "text/plain": [
       "<Figure size 432x288 with 1 Axes>"
      ]
     },
     "metadata": {
      "needs_background": "light"
     },
     "output_type": "display_data"
    }
   ],
   "source": [
    "plt.ylim(0, 1e6)\n",
    "plt.scatter(df['num_iterations'], df['max_num_found'])"
   ]
  },
  {
   "cell_type": "code",
   "execution_count": 9,
   "id": "bf4e0285-fdcb-487d-8f9f-15aefb0e4071",
   "metadata": {},
   "outputs": [
    {
     "data": {
      "text/plain": [
       "1    2999\n",
       "Name: reduced_to, dtype: int64"
      ]
     },
     "execution_count": 9,
     "metadata": {},
     "output_type": "execute_result"
    }
   ],
   "source": [
    "df['reduced_to'].value_counts()"
   ]
  },
  {
   "cell_type": "code",
   "execution_count": null,
   "id": "1fff2059-06a3-417d-b123-9c462c7abd62",
   "metadata": {},
   "outputs": [],
   "source": []
  }
 ],
 "metadata": {
  "kernelspec": {
   "display_name": "Python 3 (ipykernel)",
   "language": "python",
   "name": "python3"
  },
  "language_info": {
   "codemirror_mode": {
    "name": "ipython",
    "version": 3
   },
   "file_extension": ".py",
   "mimetype": "text/x-python",
   "name": "python",
   "nbconvert_exporter": "python",
   "pygments_lexer": "ipython3",
   "version": "3.9.6"
  }
 },
 "nbformat": 4,
 "nbformat_minor": 5
}
